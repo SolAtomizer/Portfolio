{
  "nbformat": 4,
  "nbformat_minor": 0,
  "metadata": {
    "colab": {
      "name": "StellarClassification.ipynb",
      "provenance": [],
      "collapsed_sections": [],
      "toc_visible": true,
      "authorship_tag": "ABX9TyNdEf5ipsBwnpOGDYMI09N9",
      "include_colab_link": true
    },
    "kernelspec": {
      "name": "python3",
      "display_name": "Python 3"
    },
    "language_info": {
      "name": "python"
    }
  },
  "cells": [
    {
      "cell_type": "markdown",
      "metadata": {
        "id": "view-in-github",
        "colab_type": "text"
      },
      "source": [
        "<a href=\"https://colab.research.google.com/github/SolAtomizer/Portfolio/blob/main/StellarClassification.ipynb\" target=\"_parent\"><img src=\"https://colab.research.google.com/assets/colab-badge.svg\" alt=\"Open In Colab\"/></a>"
      ]
    },
    {
      "cell_type": "markdown",
      "source": [
        "# Stellar Classification\n",
        "### Classifying Galaxies, Stars and Quasars based on Spectral Characteristics\n",
        "Author: https://github.com/SolAtomizer"
      ],
      "metadata": {
        "id": "SAewUPCphrNA"
      }
    },
    {
      "cell_type": "markdown",
      "source": [
        "## Initiating Exploratory Data Analysis"
      ],
      "metadata": {
        "id": "Jj9C7ER6hj-d"
      }
    },
    {
      "cell_type": "code",
      "execution_count": 1,
      "metadata": {
        "id": "jnkb2YKU2yRD"
      },
      "outputs": [],
      "source": [
        "import pandas as pd\n",
        "import numpy as np\n",
        "import seaborn as sns\n",
        "import matplotlib.pyplot as plt"
      ]
    },
    {
      "cell_type": "code",
      "source": [
        "#https://www.kaggle.com/datasets/fedesoriano/stellar-classification-dataset-sdss17\n",
        "df = pd.read_csv('star_classification.csv')"
      ],
      "metadata": {
        "id": "nyIom5Ms233o"
      },
      "execution_count": 2,
      "outputs": []
    },
    {
      "cell_type": "markdown",
      "source": [
        "### Initial Exploration and Cleaning"
      ],
      "metadata": {
        "id": "woecN1-7mtWJ"
      }
    },
    {
      "cell_type": "code",
      "source": [
        "#Small overview of the dataset's contents.\n",
        "df.head()"
      ],
      "metadata": {
        "colab": {
          "base_uri": "https://localhost:8080/",
          "height": 206
        },
        "id": "z3SDtaoS3BYr",
        "outputId": "4cfec366-716d-493b-e56a-c379a9915407"
      },
      "execution_count": 3,
      "outputs": [
        {
          "output_type": "execute_result",
          "data": {
            "text/plain": [
              "         obj_ID       alpha      delta         u         g         r  \\\n",
              "0  1.237661e+18  135.689107  32.494632  23.87882  22.27530  20.39501   \n",
              "1  1.237665e+18  144.826101  31.274185  24.77759  22.83188  22.58444   \n",
              "2  1.237661e+18  142.188790  35.582444  25.26307  22.66389  20.60976   \n",
              "3  1.237663e+18  338.741038  -0.402828  22.13682  23.77656  21.61162   \n",
              "4  1.237680e+18  345.282593  21.183866  19.43718  17.58028  16.49747   \n",
              "\n",
              "          i         z  run_ID  rerun_ID  cam_col  field_ID   spec_obj_ID  \\\n",
              "0  19.16573  18.79371    3606       301        2        79  6.543777e+18   \n",
              "1  21.16812  21.61427    4518       301        5       119  1.176014e+19   \n",
              "2  19.34857  18.94827    3606       301        2       120  5.152200e+18   \n",
              "3  20.50454  19.25010    4192       301        3       214  1.030107e+19   \n",
              "4  15.97711  15.54461    8102       301        3       137  6.891865e+18   \n",
              "\n",
              "    class  redshift  plate    MJD  fiber_ID  \n",
              "0  GALAXY  0.634794   5812  56354       171  \n",
              "1  GALAXY  0.779136  10445  58158       427  \n",
              "2  GALAXY  0.644195   4576  55592       299  \n",
              "3  GALAXY  0.932346   9149  58039       775  \n",
              "4  GALAXY  0.116123   6121  56187       842  "
            ],
            "text/html": [
              "\n",
              "  <div id=\"df-6f065a4a-dc8b-4dde-ab95-dd3527230706\">\n",
              "    <div class=\"colab-df-container\">\n",
              "      <div>\n",
              "<style scoped>\n",
              "    .dataframe tbody tr th:only-of-type {\n",
              "        vertical-align: middle;\n",
              "    }\n",
              "\n",
              "    .dataframe tbody tr th {\n",
              "        vertical-align: top;\n",
              "    }\n",
              "\n",
              "    .dataframe thead th {\n",
              "        text-align: right;\n",
              "    }\n",
              "</style>\n",
              "<table border=\"1\" class=\"dataframe\">\n",
              "  <thead>\n",
              "    <tr style=\"text-align: right;\">\n",
              "      <th></th>\n",
              "      <th>obj_ID</th>\n",
              "      <th>alpha</th>\n",
              "      <th>delta</th>\n",
              "      <th>u</th>\n",
              "      <th>g</th>\n",
              "      <th>r</th>\n",
              "      <th>i</th>\n",
              "      <th>z</th>\n",
              "      <th>run_ID</th>\n",
              "      <th>rerun_ID</th>\n",
              "      <th>cam_col</th>\n",
              "      <th>field_ID</th>\n",
              "      <th>spec_obj_ID</th>\n",
              "      <th>class</th>\n",
              "      <th>redshift</th>\n",
              "      <th>plate</th>\n",
              "      <th>MJD</th>\n",
              "      <th>fiber_ID</th>\n",
              "    </tr>\n",
              "  </thead>\n",
              "  <tbody>\n",
              "    <tr>\n",
              "      <th>0</th>\n",
              "      <td>1.237661e+18</td>\n",
              "      <td>135.689107</td>\n",
              "      <td>32.494632</td>\n",
              "      <td>23.87882</td>\n",
              "      <td>22.27530</td>\n",
              "      <td>20.39501</td>\n",
              "      <td>19.16573</td>\n",
              "      <td>18.79371</td>\n",
              "      <td>3606</td>\n",
              "      <td>301</td>\n",
              "      <td>2</td>\n",
              "      <td>79</td>\n",
              "      <td>6.543777e+18</td>\n",
              "      <td>GALAXY</td>\n",
              "      <td>0.634794</td>\n",
              "      <td>5812</td>\n",
              "      <td>56354</td>\n",
              "      <td>171</td>\n",
              "    </tr>\n",
              "    <tr>\n",
              "      <th>1</th>\n",
              "      <td>1.237665e+18</td>\n",
              "      <td>144.826101</td>\n",
              "      <td>31.274185</td>\n",
              "      <td>24.77759</td>\n",
              "      <td>22.83188</td>\n",
              "      <td>22.58444</td>\n",
              "      <td>21.16812</td>\n",
              "      <td>21.61427</td>\n",
              "      <td>4518</td>\n",
              "      <td>301</td>\n",
              "      <td>5</td>\n",
              "      <td>119</td>\n",
              "      <td>1.176014e+19</td>\n",
              "      <td>GALAXY</td>\n",
              "      <td>0.779136</td>\n",
              "      <td>10445</td>\n",
              "      <td>58158</td>\n",
              "      <td>427</td>\n",
              "    </tr>\n",
              "    <tr>\n",
              "      <th>2</th>\n",
              "      <td>1.237661e+18</td>\n",
              "      <td>142.188790</td>\n",
              "      <td>35.582444</td>\n",
              "      <td>25.26307</td>\n",
              "      <td>22.66389</td>\n",
              "      <td>20.60976</td>\n",
              "      <td>19.34857</td>\n",
              "      <td>18.94827</td>\n",
              "      <td>3606</td>\n",
              "      <td>301</td>\n",
              "      <td>2</td>\n",
              "      <td>120</td>\n",
              "      <td>5.152200e+18</td>\n",
              "      <td>GALAXY</td>\n",
              "      <td>0.644195</td>\n",
              "      <td>4576</td>\n",
              "      <td>55592</td>\n",
              "      <td>299</td>\n",
              "    </tr>\n",
              "    <tr>\n",
              "      <th>3</th>\n",
              "      <td>1.237663e+18</td>\n",
              "      <td>338.741038</td>\n",
              "      <td>-0.402828</td>\n",
              "      <td>22.13682</td>\n",
              "      <td>23.77656</td>\n",
              "      <td>21.61162</td>\n",
              "      <td>20.50454</td>\n",
              "      <td>19.25010</td>\n",
              "      <td>4192</td>\n",
              "      <td>301</td>\n",
              "      <td>3</td>\n",
              "      <td>214</td>\n",
              "      <td>1.030107e+19</td>\n",
              "      <td>GALAXY</td>\n",
              "      <td>0.932346</td>\n",
              "      <td>9149</td>\n",
              "      <td>58039</td>\n",
              "      <td>775</td>\n",
              "    </tr>\n",
              "    <tr>\n",
              "      <th>4</th>\n",
              "      <td>1.237680e+18</td>\n",
              "      <td>345.282593</td>\n",
              "      <td>21.183866</td>\n",
              "      <td>19.43718</td>\n",
              "      <td>17.58028</td>\n",
              "      <td>16.49747</td>\n",
              "      <td>15.97711</td>\n",
              "      <td>15.54461</td>\n",
              "      <td>8102</td>\n",
              "      <td>301</td>\n",
              "      <td>3</td>\n",
              "      <td>137</td>\n",
              "      <td>6.891865e+18</td>\n",
              "      <td>GALAXY</td>\n",
              "      <td>0.116123</td>\n",
              "      <td>6121</td>\n",
              "      <td>56187</td>\n",
              "      <td>842</td>\n",
              "    </tr>\n",
              "  </tbody>\n",
              "</table>\n",
              "</div>\n",
              "      <button class=\"colab-df-convert\" onclick=\"convertToInteractive('df-6f065a4a-dc8b-4dde-ab95-dd3527230706')\"\n",
              "              title=\"Convert this dataframe to an interactive table.\"\n",
              "              style=\"display:none;\">\n",
              "        \n",
              "  <svg xmlns=\"http://www.w3.org/2000/svg\" height=\"24px\"viewBox=\"0 0 24 24\"\n",
              "       width=\"24px\">\n",
              "    <path d=\"M0 0h24v24H0V0z\" fill=\"none\"/>\n",
              "    <path d=\"M18.56 5.44l.94 2.06.94-2.06 2.06-.94-2.06-.94-.94-2.06-.94 2.06-2.06.94zm-11 1L8.5 8.5l.94-2.06 2.06-.94-2.06-.94L8.5 2.5l-.94 2.06-2.06.94zm10 10l.94 2.06.94-2.06 2.06-.94-2.06-.94-.94-2.06-.94 2.06-2.06.94z\"/><path d=\"M17.41 7.96l-1.37-1.37c-.4-.4-.92-.59-1.43-.59-.52 0-1.04.2-1.43.59L10.3 9.45l-7.72 7.72c-.78.78-.78 2.05 0 2.83L4 21.41c.39.39.9.59 1.41.59.51 0 1.02-.2 1.41-.59l7.78-7.78 2.81-2.81c.8-.78.8-2.07 0-2.86zM5.41 20L4 18.59l7.72-7.72 1.47 1.35L5.41 20z\"/>\n",
              "  </svg>\n",
              "      </button>\n",
              "      \n",
              "  <style>\n",
              "    .colab-df-container {\n",
              "      display:flex;\n",
              "      flex-wrap:wrap;\n",
              "      gap: 12px;\n",
              "    }\n",
              "\n",
              "    .colab-df-convert {\n",
              "      background-color: #E8F0FE;\n",
              "      border: none;\n",
              "      border-radius: 50%;\n",
              "      cursor: pointer;\n",
              "      display: none;\n",
              "      fill: #1967D2;\n",
              "      height: 32px;\n",
              "      padding: 0 0 0 0;\n",
              "      width: 32px;\n",
              "    }\n",
              "\n",
              "    .colab-df-convert:hover {\n",
              "      background-color: #E2EBFA;\n",
              "      box-shadow: 0px 1px 2px rgba(60, 64, 67, 0.3), 0px 1px 3px 1px rgba(60, 64, 67, 0.15);\n",
              "      fill: #174EA6;\n",
              "    }\n",
              "\n",
              "    [theme=dark] .colab-df-convert {\n",
              "      background-color: #3B4455;\n",
              "      fill: #D2E3FC;\n",
              "    }\n",
              "\n",
              "    [theme=dark] .colab-df-convert:hover {\n",
              "      background-color: #434B5C;\n",
              "      box-shadow: 0px 1px 3px 1px rgba(0, 0, 0, 0.15);\n",
              "      filter: drop-shadow(0px 1px 2px rgba(0, 0, 0, 0.3));\n",
              "      fill: #FFFFFF;\n",
              "    }\n",
              "  </style>\n",
              "\n",
              "      <script>\n",
              "        const buttonEl =\n",
              "          document.querySelector('#df-6f065a4a-dc8b-4dde-ab95-dd3527230706 button.colab-df-convert');\n",
              "        buttonEl.style.display =\n",
              "          google.colab.kernel.accessAllowed ? 'block' : 'none';\n",
              "\n",
              "        async function convertToInteractive(key) {\n",
              "          const element = document.querySelector('#df-6f065a4a-dc8b-4dde-ab95-dd3527230706');\n",
              "          const dataTable =\n",
              "            await google.colab.kernel.invokeFunction('convertToInteractive',\n",
              "                                                     [key], {});\n",
              "          if (!dataTable) return;\n",
              "\n",
              "          const docLinkHtml = 'Like what you see? Visit the ' +\n",
              "            '<a target=\"_blank\" href=https://colab.research.google.com/notebooks/data_table.ipynb>data table notebook</a>'\n",
              "            + ' to learn more about interactive tables.';\n",
              "          element.innerHTML = '';\n",
              "          dataTable['output_type'] = 'display_data';\n",
              "          await google.colab.output.renderOutput(dataTable, element);\n",
              "          const docLink = document.createElement('div');\n",
              "          docLink.innerHTML = docLinkHtml;\n",
              "          element.appendChild(docLink);\n",
              "        }\n",
              "      </script>\n",
              "    </div>\n",
              "  </div>\n",
              "  "
            ]
          },
          "metadata": {},
          "execution_count": 3
        }
      ]
    },
    {
      "cell_type": "code",
      "source": [
        "#Verifying numerical values.\n",
        "df.describe()"
      ],
      "metadata": {
        "colab": {
          "base_uri": "https://localhost:8080/",
          "height": 364
        },
        "id": "R4I2FJDSZxyf",
        "outputId": "836541a5-96db-43f4-9a04-1ec50dff1bc0"
      },
      "execution_count": 4,
      "outputs": [
        {
          "output_type": "execute_result",
          "data": {
            "text/plain": [
              "             obj_ID          alpha          delta              u  \\\n",
              "count  1.000000e+05  100000.000000  100000.000000  100000.000000   \n",
              "mean   1.237665e+18     177.629117      24.135305      21.980468   \n",
              "std    8.438560e+12      96.502241      19.644665      31.769291   \n",
              "min    1.237646e+18       0.005528     -18.785328   -9999.000000   \n",
              "25%    1.237659e+18     127.518222       5.146771      20.352353   \n",
              "50%    1.237663e+18     180.900700      23.645922      22.179135   \n",
              "75%    1.237668e+18     233.895005      39.901550      23.687440   \n",
              "max    1.237681e+18     359.999810      83.000519      32.781390   \n",
              "\n",
              "                   g              r              i              z  \\\n",
              "count  100000.000000  100000.000000  100000.000000  100000.000000   \n",
              "mean       20.531387      19.645762      19.084854      18.668810   \n",
              "std        31.750292       1.854760       1.757895      31.728152   \n",
              "min     -9999.000000       9.822070       9.469903   -9999.000000   \n",
              "25%        18.965230      18.135828      17.732285      17.460677   \n",
              "50%        21.099835      20.125290      19.405145      19.004595   \n",
              "75%        22.123767      21.044785      20.396495      19.921120   \n",
              "max        31.602240      29.571860      32.141470      29.383740   \n",
              "\n",
              "              run_ID  rerun_ID        cam_col       field_ID   spec_obj_ID  \\\n",
              "count  100000.000000  100000.0  100000.000000  100000.000000  1.000000e+05   \n",
              "mean     4481.366060     301.0       3.511610     186.130520  5.783882e+18   \n",
              "std      1964.764593       0.0       1.586912     149.011073  3.324016e+18   \n",
              "min       109.000000     301.0       1.000000      11.000000  2.995191e+17   \n",
              "25%      3187.000000     301.0       2.000000      82.000000  2.844138e+18   \n",
              "50%      4188.000000     301.0       4.000000     146.000000  5.614883e+18   \n",
              "75%      5326.000000     301.0       5.000000     241.000000  8.332144e+18   \n",
              "max      8162.000000     301.0       6.000000     989.000000  1.412694e+19   \n",
              "\n",
              "            redshift          plate            MJD       fiber_ID  \n",
              "count  100000.000000  100000.000000  100000.000000  100000.000000  \n",
              "mean        0.576661    5137.009660   55588.647500     449.312740  \n",
              "std         0.730707    2952.303351    1808.484233     272.498404  \n",
              "min        -0.009971     266.000000   51608.000000       1.000000  \n",
              "25%         0.054517    2526.000000   54234.000000     221.000000  \n",
              "50%         0.424173    4987.000000   55868.500000     433.000000  \n",
              "75%         0.704154    7400.250000   56777.000000     645.000000  \n",
              "max         7.011245   12547.000000   58932.000000    1000.000000  "
            ],
            "text/html": [
              "\n",
              "  <div id=\"df-befae9bc-3e29-4689-bbbe-ca071e7725d2\">\n",
              "    <div class=\"colab-df-container\">\n",
              "      <div>\n",
              "<style scoped>\n",
              "    .dataframe tbody tr th:only-of-type {\n",
              "        vertical-align: middle;\n",
              "    }\n",
              "\n",
              "    .dataframe tbody tr th {\n",
              "        vertical-align: top;\n",
              "    }\n",
              "\n",
              "    .dataframe thead th {\n",
              "        text-align: right;\n",
              "    }\n",
              "</style>\n",
              "<table border=\"1\" class=\"dataframe\">\n",
              "  <thead>\n",
              "    <tr style=\"text-align: right;\">\n",
              "      <th></th>\n",
              "      <th>obj_ID</th>\n",
              "      <th>alpha</th>\n",
              "      <th>delta</th>\n",
              "      <th>u</th>\n",
              "      <th>g</th>\n",
              "      <th>r</th>\n",
              "      <th>i</th>\n",
              "      <th>z</th>\n",
              "      <th>run_ID</th>\n",
              "      <th>rerun_ID</th>\n",
              "      <th>cam_col</th>\n",
              "      <th>field_ID</th>\n",
              "      <th>spec_obj_ID</th>\n",
              "      <th>redshift</th>\n",
              "      <th>plate</th>\n",
              "      <th>MJD</th>\n",
              "      <th>fiber_ID</th>\n",
              "    </tr>\n",
              "  </thead>\n",
              "  <tbody>\n",
              "    <tr>\n",
              "      <th>count</th>\n",
              "      <td>1.000000e+05</td>\n",
              "      <td>100000.000000</td>\n",
              "      <td>100000.000000</td>\n",
              "      <td>100000.000000</td>\n",
              "      <td>100000.000000</td>\n",
              "      <td>100000.000000</td>\n",
              "      <td>100000.000000</td>\n",
              "      <td>100000.000000</td>\n",
              "      <td>100000.000000</td>\n",
              "      <td>100000.0</td>\n",
              "      <td>100000.000000</td>\n",
              "      <td>100000.000000</td>\n",
              "      <td>1.000000e+05</td>\n",
              "      <td>100000.000000</td>\n",
              "      <td>100000.000000</td>\n",
              "      <td>100000.000000</td>\n",
              "      <td>100000.000000</td>\n",
              "    </tr>\n",
              "    <tr>\n",
              "      <th>mean</th>\n",
              "      <td>1.237665e+18</td>\n",
              "      <td>177.629117</td>\n",
              "      <td>24.135305</td>\n",
              "      <td>21.980468</td>\n",
              "      <td>20.531387</td>\n",
              "      <td>19.645762</td>\n",
              "      <td>19.084854</td>\n",
              "      <td>18.668810</td>\n",
              "      <td>4481.366060</td>\n",
              "      <td>301.0</td>\n",
              "      <td>3.511610</td>\n",
              "      <td>186.130520</td>\n",
              "      <td>5.783882e+18</td>\n",
              "      <td>0.576661</td>\n",
              "      <td>5137.009660</td>\n",
              "      <td>55588.647500</td>\n",
              "      <td>449.312740</td>\n",
              "    </tr>\n",
              "    <tr>\n",
              "      <th>std</th>\n",
              "      <td>8.438560e+12</td>\n",
              "      <td>96.502241</td>\n",
              "      <td>19.644665</td>\n",
              "      <td>31.769291</td>\n",
              "      <td>31.750292</td>\n",
              "      <td>1.854760</td>\n",
              "      <td>1.757895</td>\n",
              "      <td>31.728152</td>\n",
              "      <td>1964.764593</td>\n",
              "      <td>0.0</td>\n",
              "      <td>1.586912</td>\n",
              "      <td>149.011073</td>\n",
              "      <td>3.324016e+18</td>\n",
              "      <td>0.730707</td>\n",
              "      <td>2952.303351</td>\n",
              "      <td>1808.484233</td>\n",
              "      <td>272.498404</td>\n",
              "    </tr>\n",
              "    <tr>\n",
              "      <th>min</th>\n",
              "      <td>1.237646e+18</td>\n",
              "      <td>0.005528</td>\n",
              "      <td>-18.785328</td>\n",
              "      <td>-9999.000000</td>\n",
              "      <td>-9999.000000</td>\n",
              "      <td>9.822070</td>\n",
              "      <td>9.469903</td>\n",
              "      <td>-9999.000000</td>\n",
              "      <td>109.000000</td>\n",
              "      <td>301.0</td>\n",
              "      <td>1.000000</td>\n",
              "      <td>11.000000</td>\n",
              "      <td>2.995191e+17</td>\n",
              "      <td>-0.009971</td>\n",
              "      <td>266.000000</td>\n",
              "      <td>51608.000000</td>\n",
              "      <td>1.000000</td>\n",
              "    </tr>\n",
              "    <tr>\n",
              "      <th>25%</th>\n",
              "      <td>1.237659e+18</td>\n",
              "      <td>127.518222</td>\n",
              "      <td>5.146771</td>\n",
              "      <td>20.352353</td>\n",
              "      <td>18.965230</td>\n",
              "      <td>18.135828</td>\n",
              "      <td>17.732285</td>\n",
              "      <td>17.460677</td>\n",
              "      <td>3187.000000</td>\n",
              "      <td>301.0</td>\n",
              "      <td>2.000000</td>\n",
              "      <td>82.000000</td>\n",
              "      <td>2.844138e+18</td>\n",
              "      <td>0.054517</td>\n",
              "      <td>2526.000000</td>\n",
              "      <td>54234.000000</td>\n",
              "      <td>221.000000</td>\n",
              "    </tr>\n",
              "    <tr>\n",
              "      <th>50%</th>\n",
              "      <td>1.237663e+18</td>\n",
              "      <td>180.900700</td>\n",
              "      <td>23.645922</td>\n",
              "      <td>22.179135</td>\n",
              "      <td>21.099835</td>\n",
              "      <td>20.125290</td>\n",
              "      <td>19.405145</td>\n",
              "      <td>19.004595</td>\n",
              "      <td>4188.000000</td>\n",
              "      <td>301.0</td>\n",
              "      <td>4.000000</td>\n",
              "      <td>146.000000</td>\n",
              "      <td>5.614883e+18</td>\n",
              "      <td>0.424173</td>\n",
              "      <td>4987.000000</td>\n",
              "      <td>55868.500000</td>\n",
              "      <td>433.000000</td>\n",
              "    </tr>\n",
              "    <tr>\n",
              "      <th>75%</th>\n",
              "      <td>1.237668e+18</td>\n",
              "      <td>233.895005</td>\n",
              "      <td>39.901550</td>\n",
              "      <td>23.687440</td>\n",
              "      <td>22.123767</td>\n",
              "      <td>21.044785</td>\n",
              "      <td>20.396495</td>\n",
              "      <td>19.921120</td>\n",
              "      <td>5326.000000</td>\n",
              "      <td>301.0</td>\n",
              "      <td>5.000000</td>\n",
              "      <td>241.000000</td>\n",
              "      <td>8.332144e+18</td>\n",
              "      <td>0.704154</td>\n",
              "      <td>7400.250000</td>\n",
              "      <td>56777.000000</td>\n",
              "      <td>645.000000</td>\n",
              "    </tr>\n",
              "    <tr>\n",
              "      <th>max</th>\n",
              "      <td>1.237681e+18</td>\n",
              "      <td>359.999810</td>\n",
              "      <td>83.000519</td>\n",
              "      <td>32.781390</td>\n",
              "      <td>31.602240</td>\n",
              "      <td>29.571860</td>\n",
              "      <td>32.141470</td>\n",
              "      <td>29.383740</td>\n",
              "      <td>8162.000000</td>\n",
              "      <td>301.0</td>\n",
              "      <td>6.000000</td>\n",
              "      <td>989.000000</td>\n",
              "      <td>1.412694e+19</td>\n",
              "      <td>7.011245</td>\n",
              "      <td>12547.000000</td>\n",
              "      <td>58932.000000</td>\n",
              "      <td>1000.000000</td>\n",
              "    </tr>\n",
              "  </tbody>\n",
              "</table>\n",
              "</div>\n",
              "      <button class=\"colab-df-convert\" onclick=\"convertToInteractive('df-befae9bc-3e29-4689-bbbe-ca071e7725d2')\"\n",
              "              title=\"Convert this dataframe to an interactive table.\"\n",
              "              style=\"display:none;\">\n",
              "        \n",
              "  <svg xmlns=\"http://www.w3.org/2000/svg\" height=\"24px\"viewBox=\"0 0 24 24\"\n",
              "       width=\"24px\">\n",
              "    <path d=\"M0 0h24v24H0V0z\" fill=\"none\"/>\n",
              "    <path d=\"M18.56 5.44l.94 2.06.94-2.06 2.06-.94-2.06-.94-.94-2.06-.94 2.06-2.06.94zm-11 1L8.5 8.5l.94-2.06 2.06-.94-2.06-.94L8.5 2.5l-.94 2.06-2.06.94zm10 10l.94 2.06.94-2.06 2.06-.94-2.06-.94-.94-2.06-.94 2.06-2.06.94z\"/><path d=\"M17.41 7.96l-1.37-1.37c-.4-.4-.92-.59-1.43-.59-.52 0-1.04.2-1.43.59L10.3 9.45l-7.72 7.72c-.78.78-.78 2.05 0 2.83L4 21.41c.39.39.9.59 1.41.59.51 0 1.02-.2 1.41-.59l7.78-7.78 2.81-2.81c.8-.78.8-2.07 0-2.86zM5.41 20L4 18.59l7.72-7.72 1.47 1.35L5.41 20z\"/>\n",
              "  </svg>\n",
              "      </button>\n",
              "      \n",
              "  <style>\n",
              "    .colab-df-container {\n",
              "      display:flex;\n",
              "      flex-wrap:wrap;\n",
              "      gap: 12px;\n",
              "    }\n",
              "\n",
              "    .colab-df-convert {\n",
              "      background-color: #E8F0FE;\n",
              "      border: none;\n",
              "      border-radius: 50%;\n",
              "      cursor: pointer;\n",
              "      display: none;\n",
              "      fill: #1967D2;\n",
              "      height: 32px;\n",
              "      padding: 0 0 0 0;\n",
              "      width: 32px;\n",
              "    }\n",
              "\n",
              "    .colab-df-convert:hover {\n",
              "      background-color: #E2EBFA;\n",
              "      box-shadow: 0px 1px 2px rgba(60, 64, 67, 0.3), 0px 1px 3px 1px rgba(60, 64, 67, 0.15);\n",
              "      fill: #174EA6;\n",
              "    }\n",
              "\n",
              "    [theme=dark] .colab-df-convert {\n",
              "      background-color: #3B4455;\n",
              "      fill: #D2E3FC;\n",
              "    }\n",
              "\n",
              "    [theme=dark] .colab-df-convert:hover {\n",
              "      background-color: #434B5C;\n",
              "      box-shadow: 0px 1px 3px 1px rgba(0, 0, 0, 0.15);\n",
              "      filter: drop-shadow(0px 1px 2px rgba(0, 0, 0, 0.3));\n",
              "      fill: #FFFFFF;\n",
              "    }\n",
              "  </style>\n",
              "\n",
              "      <script>\n",
              "        const buttonEl =\n",
              "          document.querySelector('#df-befae9bc-3e29-4689-bbbe-ca071e7725d2 button.colab-df-convert');\n",
              "        buttonEl.style.display =\n",
              "          google.colab.kernel.accessAllowed ? 'block' : 'none';\n",
              "\n",
              "        async function convertToInteractive(key) {\n",
              "          const element = document.querySelector('#df-befae9bc-3e29-4689-bbbe-ca071e7725d2');\n",
              "          const dataTable =\n",
              "            await google.colab.kernel.invokeFunction('convertToInteractive',\n",
              "                                                     [key], {});\n",
              "          if (!dataTable) return;\n",
              "\n",
              "          const docLinkHtml = 'Like what you see? Visit the ' +\n",
              "            '<a target=\"_blank\" href=https://colab.research.google.com/notebooks/data_table.ipynb>data table notebook</a>'\n",
              "            + ' to learn more about interactive tables.';\n",
              "          element.innerHTML = '';\n",
              "          dataTable['output_type'] = 'display_data';\n",
              "          await google.colab.output.renderOutput(dataTable, element);\n",
              "          const docLink = document.createElement('div');\n",
              "          docLink.innerHTML = docLinkHtml;\n",
              "          element.appendChild(docLink);\n",
              "        }\n",
              "      </script>\n",
              "    </div>\n",
              "  </div>\n",
              "  "
            ]
          },
          "metadata": {},
          "execution_count": 4
        }
      ]
    },
    {
      "cell_type": "code",
      "source": [
        "#An observation in the dataset has a value of -9999 for variables \"u\", \"g\" and \"z\"\n",
        "outlier = df[df['u']==-9999.000].index\n",
        "#The lone outlier gets dropped from the dataframe\n",
        "df.drop(outlier,inplace = True)"
      ],
      "metadata": {
        "id": "3G6q-TN9aArh"
      },
      "execution_count": 5,
      "outputs": []
    },
    {
      "cell_type": "code",
      "source": [
        "df.describe()"
      ],
      "metadata": {
        "colab": {
          "base_uri": "https://localhost:8080/",
          "height": 364
        },
        "id": "9vDG0IWibFg_",
        "outputId": "9ec6ab51-5acf-47a1-8434-f39df5ed0c90"
      },
      "execution_count": 6,
      "outputs": [
        {
          "output_type": "execute_result",
          "data": {
            "text/plain": [
              "             obj_ID         alpha         delta             u             g  \\\n",
              "count  9.999900e+04  99999.000000  99999.000000  99999.000000  99999.000000   \n",
              "mean   1.237665e+18    177.628653     24.135552     22.080679     20.631583   \n",
              "std    8.438450e+12     96.502612     19.644608      2.251068      2.037384   \n",
              "min    1.237646e+18      0.005528    -18.785328     10.996230     10.498200   \n",
              "25%    1.237659e+18    127.517698      5.147477     20.352410     18.965240   \n",
              "50%    1.237663e+18    180.900527     23.646462     22.179140     21.099930   \n",
              "75%    1.237668e+18    233.895005     39.901582     23.687480     22.123775   \n",
              "max    1.237681e+18    359.999810     83.000519     32.781390     31.602240   \n",
              "\n",
              "                  r             i             z        run_ID  rerun_ID  \\\n",
              "count  99999.000000  99999.000000  99999.000000  99999.000000   99999.0   \n",
              "mean      19.645777     19.084865     18.768988   4481.403354     301.0   \n",
              "std        1.854763      1.757900      1.765982   1964.739021       0.0   \n",
              "min        9.822070      9.469903      9.612333    109.000000     301.0   \n",
              "25%       18.135795     17.732280     17.460830   3187.000000     301.0   \n",
              "50%       20.125310     19.405150     19.004600   4188.000000     301.0   \n",
              "75%       21.044790     20.396510     19.921120   5326.000000     301.0   \n",
              "max       29.571860     32.141470     29.383740   8162.000000     301.0   \n",
              "\n",
              "            cam_col      field_ID   spec_obj_ID      redshift         plate  \\\n",
              "count  99999.000000  99999.000000  9.999900e+04  99999.000000  99999.000000   \n",
              "mean       3.511625    186.127011  5.783903e+18      0.576667   5137.027890   \n",
              "std        1.586913    149.007687  3.324026e+18      0.730709   2952.312485   \n",
              "min        1.000000     11.000000  2.995191e+17     -0.009971    266.000000   \n",
              "25%        2.000000     82.000000  2.844137e+18      0.054522   2526.000000   \n",
              "50%        4.000000    146.000000  5.614896e+18      0.424176   4987.000000   \n",
              "75%        5.000000    241.000000  8.332365e+18      0.704172   7400.500000   \n",
              "max        6.000000    989.000000  1.412694e+19      7.011245  12547.000000   \n",
              "\n",
              "                MJD      fiber_ID  \n",
              "count  99999.000000  99999.000000  \n",
              "mean   55588.653687    449.315613  \n",
              "std     1808.492217    272.498252  \n",
              "min    51608.000000      1.000000  \n",
              "25%    54234.000000    221.000000  \n",
              "50%    55869.000000    433.000000  \n",
              "75%    56777.000000    645.000000  \n",
              "max    58932.000000   1000.000000  "
            ],
            "text/html": [
              "\n",
              "  <div id=\"df-f1258d3e-2375-4232-b7f1-1534a58f0902\">\n",
              "    <div class=\"colab-df-container\">\n",
              "      <div>\n",
              "<style scoped>\n",
              "    .dataframe tbody tr th:only-of-type {\n",
              "        vertical-align: middle;\n",
              "    }\n",
              "\n",
              "    .dataframe tbody tr th {\n",
              "        vertical-align: top;\n",
              "    }\n",
              "\n",
              "    .dataframe thead th {\n",
              "        text-align: right;\n",
              "    }\n",
              "</style>\n",
              "<table border=\"1\" class=\"dataframe\">\n",
              "  <thead>\n",
              "    <tr style=\"text-align: right;\">\n",
              "      <th></th>\n",
              "      <th>obj_ID</th>\n",
              "      <th>alpha</th>\n",
              "      <th>delta</th>\n",
              "      <th>u</th>\n",
              "      <th>g</th>\n",
              "      <th>r</th>\n",
              "      <th>i</th>\n",
              "      <th>z</th>\n",
              "      <th>run_ID</th>\n",
              "      <th>rerun_ID</th>\n",
              "      <th>cam_col</th>\n",
              "      <th>field_ID</th>\n",
              "      <th>spec_obj_ID</th>\n",
              "      <th>redshift</th>\n",
              "      <th>plate</th>\n",
              "      <th>MJD</th>\n",
              "      <th>fiber_ID</th>\n",
              "    </tr>\n",
              "  </thead>\n",
              "  <tbody>\n",
              "    <tr>\n",
              "      <th>count</th>\n",
              "      <td>9.999900e+04</td>\n",
              "      <td>99999.000000</td>\n",
              "      <td>99999.000000</td>\n",
              "      <td>99999.000000</td>\n",
              "      <td>99999.000000</td>\n",
              "      <td>99999.000000</td>\n",
              "      <td>99999.000000</td>\n",
              "      <td>99999.000000</td>\n",
              "      <td>99999.000000</td>\n",
              "      <td>99999.0</td>\n",
              "      <td>99999.000000</td>\n",
              "      <td>99999.000000</td>\n",
              "      <td>9.999900e+04</td>\n",
              "      <td>99999.000000</td>\n",
              "      <td>99999.000000</td>\n",
              "      <td>99999.000000</td>\n",
              "      <td>99999.000000</td>\n",
              "    </tr>\n",
              "    <tr>\n",
              "      <th>mean</th>\n",
              "      <td>1.237665e+18</td>\n",
              "      <td>177.628653</td>\n",
              "      <td>24.135552</td>\n",
              "      <td>22.080679</td>\n",
              "      <td>20.631583</td>\n",
              "      <td>19.645777</td>\n",
              "      <td>19.084865</td>\n",
              "      <td>18.768988</td>\n",
              "      <td>4481.403354</td>\n",
              "      <td>301.0</td>\n",
              "      <td>3.511625</td>\n",
              "      <td>186.127011</td>\n",
              "      <td>5.783903e+18</td>\n",
              "      <td>0.576667</td>\n",
              "      <td>5137.027890</td>\n",
              "      <td>55588.653687</td>\n",
              "      <td>449.315613</td>\n",
              "    </tr>\n",
              "    <tr>\n",
              "      <th>std</th>\n",
              "      <td>8.438450e+12</td>\n",
              "      <td>96.502612</td>\n",
              "      <td>19.644608</td>\n",
              "      <td>2.251068</td>\n",
              "      <td>2.037384</td>\n",
              "      <td>1.854763</td>\n",
              "      <td>1.757900</td>\n",
              "      <td>1.765982</td>\n",
              "      <td>1964.739021</td>\n",
              "      <td>0.0</td>\n",
              "      <td>1.586913</td>\n",
              "      <td>149.007687</td>\n",
              "      <td>3.324026e+18</td>\n",
              "      <td>0.730709</td>\n",
              "      <td>2952.312485</td>\n",
              "      <td>1808.492217</td>\n",
              "      <td>272.498252</td>\n",
              "    </tr>\n",
              "    <tr>\n",
              "      <th>min</th>\n",
              "      <td>1.237646e+18</td>\n",
              "      <td>0.005528</td>\n",
              "      <td>-18.785328</td>\n",
              "      <td>10.996230</td>\n",
              "      <td>10.498200</td>\n",
              "      <td>9.822070</td>\n",
              "      <td>9.469903</td>\n",
              "      <td>9.612333</td>\n",
              "      <td>109.000000</td>\n",
              "      <td>301.0</td>\n",
              "      <td>1.000000</td>\n",
              "      <td>11.000000</td>\n",
              "      <td>2.995191e+17</td>\n",
              "      <td>-0.009971</td>\n",
              "      <td>266.000000</td>\n",
              "      <td>51608.000000</td>\n",
              "      <td>1.000000</td>\n",
              "    </tr>\n",
              "    <tr>\n",
              "      <th>25%</th>\n",
              "      <td>1.237659e+18</td>\n",
              "      <td>127.517698</td>\n",
              "      <td>5.147477</td>\n",
              "      <td>20.352410</td>\n",
              "      <td>18.965240</td>\n",
              "      <td>18.135795</td>\n",
              "      <td>17.732280</td>\n",
              "      <td>17.460830</td>\n",
              "      <td>3187.000000</td>\n",
              "      <td>301.0</td>\n",
              "      <td>2.000000</td>\n",
              "      <td>82.000000</td>\n",
              "      <td>2.844137e+18</td>\n",
              "      <td>0.054522</td>\n",
              "      <td>2526.000000</td>\n",
              "      <td>54234.000000</td>\n",
              "      <td>221.000000</td>\n",
              "    </tr>\n",
              "    <tr>\n",
              "      <th>50%</th>\n",
              "      <td>1.237663e+18</td>\n",
              "      <td>180.900527</td>\n",
              "      <td>23.646462</td>\n",
              "      <td>22.179140</td>\n",
              "      <td>21.099930</td>\n",
              "      <td>20.125310</td>\n",
              "      <td>19.405150</td>\n",
              "      <td>19.004600</td>\n",
              "      <td>4188.000000</td>\n",
              "      <td>301.0</td>\n",
              "      <td>4.000000</td>\n",
              "      <td>146.000000</td>\n",
              "      <td>5.614896e+18</td>\n",
              "      <td>0.424176</td>\n",
              "      <td>4987.000000</td>\n",
              "      <td>55869.000000</td>\n",
              "      <td>433.000000</td>\n",
              "    </tr>\n",
              "    <tr>\n",
              "      <th>75%</th>\n",
              "      <td>1.237668e+18</td>\n",
              "      <td>233.895005</td>\n",
              "      <td>39.901582</td>\n",
              "      <td>23.687480</td>\n",
              "      <td>22.123775</td>\n",
              "      <td>21.044790</td>\n",
              "      <td>20.396510</td>\n",
              "      <td>19.921120</td>\n",
              "      <td>5326.000000</td>\n",
              "      <td>301.0</td>\n",
              "      <td>5.000000</td>\n",
              "      <td>241.000000</td>\n",
              "      <td>8.332365e+18</td>\n",
              "      <td>0.704172</td>\n",
              "      <td>7400.500000</td>\n",
              "      <td>56777.000000</td>\n",
              "      <td>645.000000</td>\n",
              "    </tr>\n",
              "    <tr>\n",
              "      <th>max</th>\n",
              "      <td>1.237681e+18</td>\n",
              "      <td>359.999810</td>\n",
              "      <td>83.000519</td>\n",
              "      <td>32.781390</td>\n",
              "      <td>31.602240</td>\n",
              "      <td>29.571860</td>\n",
              "      <td>32.141470</td>\n",
              "      <td>29.383740</td>\n",
              "      <td>8162.000000</td>\n",
              "      <td>301.0</td>\n",
              "      <td>6.000000</td>\n",
              "      <td>989.000000</td>\n",
              "      <td>1.412694e+19</td>\n",
              "      <td>7.011245</td>\n",
              "      <td>12547.000000</td>\n",
              "      <td>58932.000000</td>\n",
              "      <td>1000.000000</td>\n",
              "    </tr>\n",
              "  </tbody>\n",
              "</table>\n",
              "</div>\n",
              "      <button class=\"colab-df-convert\" onclick=\"convertToInteractive('df-f1258d3e-2375-4232-b7f1-1534a58f0902')\"\n",
              "              title=\"Convert this dataframe to an interactive table.\"\n",
              "              style=\"display:none;\">\n",
              "        \n",
              "  <svg xmlns=\"http://www.w3.org/2000/svg\" height=\"24px\"viewBox=\"0 0 24 24\"\n",
              "       width=\"24px\">\n",
              "    <path d=\"M0 0h24v24H0V0z\" fill=\"none\"/>\n",
              "    <path d=\"M18.56 5.44l.94 2.06.94-2.06 2.06-.94-2.06-.94-.94-2.06-.94 2.06-2.06.94zm-11 1L8.5 8.5l.94-2.06 2.06-.94-2.06-.94L8.5 2.5l-.94 2.06-2.06.94zm10 10l.94 2.06.94-2.06 2.06-.94-2.06-.94-.94-2.06-.94 2.06-2.06.94z\"/><path d=\"M17.41 7.96l-1.37-1.37c-.4-.4-.92-.59-1.43-.59-.52 0-1.04.2-1.43.59L10.3 9.45l-7.72 7.72c-.78.78-.78 2.05 0 2.83L4 21.41c.39.39.9.59 1.41.59.51 0 1.02-.2 1.41-.59l7.78-7.78 2.81-2.81c.8-.78.8-2.07 0-2.86zM5.41 20L4 18.59l7.72-7.72 1.47 1.35L5.41 20z\"/>\n",
              "  </svg>\n",
              "      </button>\n",
              "      \n",
              "  <style>\n",
              "    .colab-df-container {\n",
              "      display:flex;\n",
              "      flex-wrap:wrap;\n",
              "      gap: 12px;\n",
              "    }\n",
              "\n",
              "    .colab-df-convert {\n",
              "      background-color: #E8F0FE;\n",
              "      border: none;\n",
              "      border-radius: 50%;\n",
              "      cursor: pointer;\n",
              "      display: none;\n",
              "      fill: #1967D2;\n",
              "      height: 32px;\n",
              "      padding: 0 0 0 0;\n",
              "      width: 32px;\n",
              "    }\n",
              "\n",
              "    .colab-df-convert:hover {\n",
              "      background-color: #E2EBFA;\n",
              "      box-shadow: 0px 1px 2px rgba(60, 64, 67, 0.3), 0px 1px 3px 1px rgba(60, 64, 67, 0.15);\n",
              "      fill: #174EA6;\n",
              "    }\n",
              "\n",
              "    [theme=dark] .colab-df-convert {\n",
              "      background-color: #3B4455;\n",
              "      fill: #D2E3FC;\n",
              "    }\n",
              "\n",
              "    [theme=dark] .colab-df-convert:hover {\n",
              "      background-color: #434B5C;\n",
              "      box-shadow: 0px 1px 3px 1px rgba(0, 0, 0, 0.15);\n",
              "      filter: drop-shadow(0px 1px 2px rgba(0, 0, 0, 0.3));\n",
              "      fill: #FFFFFF;\n",
              "    }\n",
              "  </style>\n",
              "\n",
              "      <script>\n",
              "        const buttonEl =\n",
              "          document.querySelector('#df-f1258d3e-2375-4232-b7f1-1534a58f0902 button.colab-df-convert');\n",
              "        buttonEl.style.display =\n",
              "          google.colab.kernel.accessAllowed ? 'block' : 'none';\n",
              "\n",
              "        async function convertToInteractive(key) {\n",
              "          const element = document.querySelector('#df-f1258d3e-2375-4232-b7f1-1534a58f0902');\n",
              "          const dataTable =\n",
              "            await google.colab.kernel.invokeFunction('convertToInteractive',\n",
              "                                                     [key], {});\n",
              "          if (!dataTable) return;\n",
              "\n",
              "          const docLinkHtml = 'Like what you see? Visit the ' +\n",
              "            '<a target=\"_blank\" href=https://colab.research.google.com/notebooks/data_table.ipynb>data table notebook</a>'\n",
              "            + ' to learn more about interactive tables.';\n",
              "          element.innerHTML = '';\n",
              "          dataTable['output_type'] = 'display_data';\n",
              "          await google.colab.output.renderOutput(dataTable, element);\n",
              "          const docLink = document.createElement('div');\n",
              "          docLink.innerHTML = docLinkHtml;\n",
              "          element.appendChild(docLink);\n",
              "        }\n",
              "      </script>\n",
              "    </div>\n",
              "  </div>\n",
              "  "
            ]
          },
          "metadata": {},
          "execution_count": 6
        }
      ]
    },
    {
      "cell_type": "code",
      "source": [
        "df.isna().sum()"
      ],
      "metadata": {
        "colab": {
          "base_uri": "https://localhost:8080/"
        },
        "id": "p3fPaprs3D5V",
        "outputId": "21c89b67-4a9c-48b4-e990-d3c87e4d4e13"
      },
      "execution_count": 7,
      "outputs": [
        {
          "output_type": "execute_result",
          "data": {
            "text/plain": [
              "obj_ID         0\n",
              "alpha          0\n",
              "delta          0\n",
              "u              0\n",
              "g              0\n",
              "r              0\n",
              "i              0\n",
              "z              0\n",
              "run_ID         0\n",
              "rerun_ID       0\n",
              "cam_col        0\n",
              "field_ID       0\n",
              "spec_obj_ID    0\n",
              "class          0\n",
              "redshift       0\n",
              "plate          0\n",
              "MJD            0\n",
              "fiber_ID       0\n",
              "dtype: int64"
            ]
          },
          "metadata": {},
          "execution_count": 7
        }
      ]
    },
    {
      "cell_type": "markdown",
      "source": [
        "### Pre-processing Data for Classification"
      ],
      "metadata": {
        "id": "gGYRJAvooY1t"
      }
    },
    {
      "cell_type": "code",
      "source": [
        "#Dropping columns related to IDs or photographic metadata. \n",
        "DroppedCols = ['obj_ID','run_ID','rerun_ID','cam_col','field_ID','spec_obj_ID','class','plate','MJD','fiber_ID']\n",
        "\n",
        "#Features\n",
        "X = df.drop(DroppedCols, axis = 1)\n",
        "#Label\n",
        "y = df['class']"
      ],
      "metadata": {
        "id": "HC2dI2ha6fdw"
      },
      "execution_count": 8,
      "outputs": []
    },
    {
      "cell_type": "code",
      "source": [
        "#Ultraviolet, green and infrared filters have an extremely high correlation\n",
        "corr = X.corr()\n",
        "corr.style.background_gradient(cmap='coolwarm')"
      ],
      "metadata": {
        "colab": {
          "base_uri": "https://localhost:8080/",
          "height": 300
        },
        "id": "VjJpM8373Ozq",
        "outputId": "101efdf5-303e-4b07-af7f-215bf0f19915"
      },
      "execution_count": 10,
      "outputs": [
        {
          "output_type": "execute_result",
          "data": {
            "text/plain": [
              "<pandas.io.formats.style.Styler at 0x7f3d65020710>"
            ],
            "text/html": [
              "<style type=\"text/css\">\n",
              "#T_20cd8_row0_col0, #T_20cd8_row1_col1, #T_20cd8_row2_col2, #T_20cd8_row3_col3, #T_20cd8_row4_col4, #T_20cd8_row5_col5, #T_20cd8_row6_col6, #T_20cd8_row7_col7 {\n",
              "  background-color: #b40426;\n",
              "  color: #f1f1f1;\n",
              "}\n",
              "#T_20cd8_row0_col1 {\n",
              "  background-color: #6e90f2;\n",
              "  color: #f1f1f1;\n",
              "}\n",
              "#T_20cd8_row0_col2, #T_20cd8_row2_col0, #T_20cd8_row7_col0 {\n",
              "  background-color: #4257c9;\n",
              "  color: #f1f1f1;\n",
              "}\n",
              "#T_20cd8_row0_col3, #T_20cd8_row0_col4, #T_20cd8_row0_col5, #T_20cd8_row0_col6, #T_20cd8_row0_col7, #T_20cd8_row1_col2, #T_20cd8_row2_col1, #T_20cd8_row4_col0, #T_20cd8_row5_col0, #T_20cd8_row6_col0 {\n",
              "  background-color: #3b4cc0;\n",
              "  color: #f1f1f1;\n",
              "}\n",
              "#T_20cd8_row1_col0 {\n",
              "  background-color: #6c8ff1;\n",
              "  color: #f1f1f1;\n",
              "}\n",
              "#T_20cd8_row1_col3 {\n",
              "  background-color: #3c4ec2;\n",
              "  color: #f1f1f1;\n",
              "}\n",
              "#T_20cd8_row1_col4 {\n",
              "  background-color: #3e51c5;\n",
              "  color: #f1f1f1;\n",
              "}\n",
              "#T_20cd8_row1_col5, #T_20cd8_row1_col6, #T_20cd8_row3_col1, #T_20cd8_row4_col1 {\n",
              "  background-color: #3f53c6;\n",
              "  color: #f1f1f1;\n",
              "}\n",
              "#T_20cd8_row1_col7 {\n",
              "  background-color: #4358cb;\n",
              "  color: #f1f1f1;\n",
              "}\n",
              "#T_20cd8_row2_col3 {\n",
              "  background-color: #e36b54;\n",
              "  color: #f1f1f1;\n",
              "}\n",
              "#T_20cd8_row2_col4, #T_20cd8_row4_col2 {\n",
              "  background-color: #f59f80;\n",
              "  color: #000000;\n",
              "}\n",
              "#T_20cd8_row2_col5, #T_20cd8_row5_col2 {\n",
              "  background-color: #f5c4ac;\n",
              "  color: #000000;\n",
              "}\n",
              "#T_20cd8_row2_col6, #T_20cd8_row6_col2 {\n",
              "  background-color: #ead4c8;\n",
              "  color: #000000;\n",
              "}\n",
              "#T_20cd8_row2_col7 {\n",
              "  background-color: #6f92f3;\n",
              "  color: #f1f1f1;\n",
              "}\n",
              "#T_20cd8_row3_col0 {\n",
              "  background-color: #3d50c3;\n",
              "  color: #f1f1f1;\n",
              "}\n",
              "#T_20cd8_row3_col2 {\n",
              "  background-color: #e26952;\n",
              "  color: #f1f1f1;\n",
              "}\n",
              "#T_20cd8_row3_col4, #T_20cd8_row4_col3 {\n",
              "  background-color: #cb3e38;\n",
              "  color: #f1f1f1;\n",
              "}\n",
              "#T_20cd8_row3_col5, #T_20cd8_row5_col3 {\n",
              "  background-color: #e36c55;\n",
              "  color: #f1f1f1;\n",
              "}\n",
              "#T_20cd8_row3_col6, #T_20cd8_row6_col3 {\n",
              "  background-color: #f18d6f;\n",
              "  color: #f1f1f1;\n",
              "}\n",
              "#T_20cd8_row3_col7 {\n",
              "  background-color: #a5c3fe;\n",
              "  color: #000000;\n",
              "}\n",
              "#T_20cd8_row4_col5, #T_20cd8_row5_col4 {\n",
              "  background-color: #c12b30;\n",
              "  color: #f1f1f1;\n",
              "}\n",
              "#T_20cd8_row4_col6, #T_20cd8_row6_col4 {\n",
              "  background-color: #d0473d;\n",
              "  color: #f1f1f1;\n",
              "}\n",
              "#T_20cd8_row4_col7 {\n",
              "  background-color: #cad8ef;\n",
              "  color: #000000;\n",
              "}\n",
              "#T_20cd8_row5_col1, #T_20cd8_row6_col1 {\n",
              "  background-color: #4055c8;\n",
              "  color: #f1f1f1;\n",
              "}\n",
              "#T_20cd8_row5_col6, #T_20cd8_row6_col5 {\n",
              "  background-color: #be242e;\n",
              "  color: #f1f1f1;\n",
              "}\n",
              "#T_20cd8_row5_col7 {\n",
              "  background-color: #dadce0;\n",
              "  color: #000000;\n",
              "}\n",
              "#T_20cd8_row6_col7 {\n",
              "  background-color: #dddcdc;\n",
              "  color: #000000;\n",
              "}\n",
              "#T_20cd8_row7_col1 {\n",
              "  background-color: #4b64d5;\n",
              "  color: #f1f1f1;\n",
              "}\n",
              "#T_20cd8_row7_col2 {\n",
              "  background-color: #779af7;\n",
              "  color: #f1f1f1;\n",
              "}\n",
              "#T_20cd8_row7_col3 {\n",
              "  background-color: #a9c6fd;\n",
              "  color: #000000;\n",
              "}\n",
              "#T_20cd8_row7_col4 {\n",
              "  background-color: #cedaeb;\n",
              "  color: #000000;\n",
              "}\n",
              "#T_20cd8_row7_col5 {\n",
              "  background-color: #dedcdb;\n",
              "  color: #000000;\n",
              "}\n",
              "#T_20cd8_row7_col6 {\n",
              "  background-color: #e0dbd8;\n",
              "  color: #000000;\n",
              "}\n",
              "</style>\n",
              "<table id=\"T_20cd8_\" class=\"dataframe\">\n",
              "  <thead>\n",
              "    <tr>\n",
              "      <th class=\"blank level0\" >&nbsp;</th>\n",
              "      <th class=\"col_heading level0 col0\" >alpha</th>\n",
              "      <th class=\"col_heading level0 col1\" >delta</th>\n",
              "      <th class=\"col_heading level0 col2\" >u</th>\n",
              "      <th class=\"col_heading level0 col3\" >g</th>\n",
              "      <th class=\"col_heading level0 col4\" >r</th>\n",
              "      <th class=\"col_heading level0 col5\" >i</th>\n",
              "      <th class=\"col_heading level0 col6\" >z</th>\n",
              "      <th class=\"col_heading level0 col7\" >redshift</th>\n",
              "    </tr>\n",
              "  </thead>\n",
              "  <tbody>\n",
              "    <tr>\n",
              "      <th id=\"T_20cd8_level0_row0\" class=\"row_heading level0 row0\" >alpha</th>\n",
              "      <td id=\"T_20cd8_row0_col0\" class=\"data row0 col0\" >1.000000</td>\n",
              "      <td id=\"T_20cd8_row0_col1\" class=\"data row0 col1\" >0.138698</td>\n",
              "      <td id=\"T_20cd8_row0_col2\" class=\"data row0 col2\" >-0.000222</td>\n",
              "      <td id=\"T_20cd8_row0_col3\" class=\"data row0 col3\" >-0.014118</td>\n",
              "      <td id=\"T_20cd8_row0_col4\" class=\"data row0 col4\" >-0.022079</td>\n",
              "      <td id=\"T_20cd8_row0_col5\" class=\"data row0 col5\" >-0.023577</td>\n",
              "      <td id=\"T_20cd8_row0_col6\" class=\"data row0 col6\" >-0.025160</td>\n",
              "      <td id=\"T_20cd8_row0_col7\" class=\"data row0 col7\" >0.001671</td>\n",
              "    </tr>\n",
              "    <tr>\n",
              "      <th id=\"T_20cd8_level0_row1\" class=\"row_heading level0 row1\" >delta</th>\n",
              "      <td id=\"T_20cd8_row1_col0\" class=\"data row1 col0\" >0.138698</td>\n",
              "      <td id=\"T_20cd8_row1_col1\" class=\"data row1 col1\" >1.000000</td>\n",
              "      <td id=\"T_20cd8_row1_col2\" class=\"data row1 col2\" >-0.026845</td>\n",
              "      <td id=\"T_20cd8_row1_col3\" class=\"data row1 col3\" >-0.007077</td>\n",
              "      <td id=\"T_20cd8_row1_col4\" class=\"data row1 col4\" >-0.006845</td>\n",
              "      <td id=\"T_20cd8_row1_col5\" class=\"data row1 col5\" >-0.004488</td>\n",
              "      <td id=\"T_20cd8_row1_col6\" class=\"data row1 col6\" >-0.006286</td>\n",
              "      <td id=\"T_20cd8_row1_col7\" class=\"data row1 col7\" >0.031629</td>\n",
              "    </tr>\n",
              "    <tr>\n",
              "      <th id=\"T_20cd8_level0_row2\" class=\"row_heading level0 row2\" >u</th>\n",
              "      <td id=\"T_20cd8_row2_col0\" class=\"data row2 col0\" >-0.000222</td>\n",
              "      <td id=\"T_20cd8_row2_col1\" class=\"data row2 col1\" >-0.026845</td>\n",
              "      <td id=\"T_20cd8_row2_col2\" class=\"data row2 col2\" >1.000000</td>\n",
              "      <td id=\"T_20cd8_row2_col3\" class=\"data row2 col3\" >0.853350</td>\n",
              "      <td id=\"T_20cd8_row2_col4\" class=\"data row2 col4\" >0.728681</td>\n",
              "      <td id=\"T_20cd8_row2_col5\" class=\"data row2 col5\" >0.618346</td>\n",
              "      <td id=\"T_20cd8_row2_col6\" class=\"data row2 col6\" >0.545760</td>\n",
              "      <td id=\"T_20cd8_row2_col7\" class=\"data row2 col7\" >0.166816</td>\n",
              "    </tr>\n",
              "    <tr>\n",
              "      <th id=\"T_20cd8_level0_row3\" class=\"row_heading level0 row3\" >g</th>\n",
              "      <td id=\"T_20cd8_row3_col0\" class=\"data row3 col0\" >-0.014118</td>\n",
              "      <td id=\"T_20cd8_row3_col1\" class=\"data row3 col1\" >-0.007077</td>\n",
              "      <td id=\"T_20cd8_row3_col2\" class=\"data row3 col2\" >0.853350</td>\n",
              "      <td id=\"T_20cd8_row3_col3\" class=\"data row3 col3\" >1.000000</td>\n",
              "      <td id=\"T_20cd8_row3_col4\" class=\"data row3 col4\" >0.932996</td>\n",
              "      <td id=\"T_20cd8_row3_col5\" class=\"data row3 col5\" >0.847046</td>\n",
              "      <td id=\"T_20cd8_row3_col6\" class=\"data row3 col6\" >0.775302</td>\n",
              "      <td id=\"T_20cd8_row3_col7\" class=\"data row3 col7\" >0.318910</td>\n",
              "    </tr>\n",
              "    <tr>\n",
              "      <th id=\"T_20cd8_level0_row4\" class=\"row_heading level0 row4\" >r</th>\n",
              "      <td id=\"T_20cd8_row4_col0\" class=\"data row4 col0\" >-0.022079</td>\n",
              "      <td id=\"T_20cd8_row4_col1\" class=\"data row4 col1\" >-0.006845</td>\n",
              "      <td id=\"T_20cd8_row4_col2\" class=\"data row4 col2\" >0.728681</td>\n",
              "      <td id=\"T_20cd8_row4_col3\" class=\"data row4 col3\" >0.932996</td>\n",
              "      <td id=\"T_20cd8_row4_col4\" class=\"data row4 col4\" >1.000000</td>\n",
              "      <td id=\"T_20cd8_row4_col5\" class=\"data row4 col5\" >0.962868</td>\n",
              "      <td id=\"T_20cd8_row4_col6\" class=\"data row4 col6\" >0.919114</td>\n",
              "      <td id=\"T_20cd8_row4_col7\" class=\"data row4 col7\" >0.433237</td>\n",
              "    </tr>\n",
              "    <tr>\n",
              "      <th id=\"T_20cd8_level0_row5\" class=\"row_heading level0 row5\" >i</th>\n",
              "      <td id=\"T_20cd8_row5_col0\" class=\"data row5 col0\" >-0.023577</td>\n",
              "      <td id=\"T_20cd8_row5_col1\" class=\"data row5 col1\" >-0.004488</td>\n",
              "      <td id=\"T_20cd8_row5_col2\" class=\"data row5 col2\" >0.618346</td>\n",
              "      <td id=\"T_20cd8_row5_col3\" class=\"data row5 col3\" >0.847046</td>\n",
              "      <td id=\"T_20cd8_row5_col4\" class=\"data row5 col4\" >0.962868</td>\n",
              "      <td id=\"T_20cd8_row5_col5\" class=\"data row5 col5\" >1.000000</td>\n",
              "      <td id=\"T_20cd8_row5_col6\" class=\"data row5 col6\" >0.971546</td>\n",
              "      <td id=\"T_20cd8_row5_col7\" class=\"data row5 col7\" >0.492381</td>\n",
              "    </tr>\n",
              "    <tr>\n",
              "      <th id=\"T_20cd8_level0_row6\" class=\"row_heading level0 row6\" >z</th>\n",
              "      <td id=\"T_20cd8_row6_col0\" class=\"data row6 col0\" >-0.025160</td>\n",
              "      <td id=\"T_20cd8_row6_col1\" class=\"data row6 col1\" >-0.006286</td>\n",
              "      <td id=\"T_20cd8_row6_col2\" class=\"data row6 col2\" >0.545760</td>\n",
              "      <td id=\"T_20cd8_row6_col3\" class=\"data row6 col3\" >0.775302</td>\n",
              "      <td id=\"T_20cd8_row6_col4\" class=\"data row6 col4\" >0.919114</td>\n",
              "      <td id=\"T_20cd8_row6_col5\" class=\"data row6 col5\" >0.971546</td>\n",
              "      <td id=\"T_20cd8_row6_col6\" class=\"data row6 col6\" >1.000000</td>\n",
              "      <td id=\"T_20cd8_row6_col7\" class=\"data row6 col7\" >0.501060</td>\n",
              "    </tr>\n",
              "    <tr>\n",
              "      <th id=\"T_20cd8_level0_row7\" class=\"row_heading level0 row7\" >redshift</th>\n",
              "      <td id=\"T_20cd8_row7_col0\" class=\"data row7 col0\" >0.001671</td>\n",
              "      <td id=\"T_20cd8_row7_col1\" class=\"data row7 col1\" >0.031629</td>\n",
              "      <td id=\"T_20cd8_row7_col2\" class=\"data row7 col2\" >0.166816</td>\n",
              "      <td id=\"T_20cd8_row7_col3\" class=\"data row7 col3\" >0.318910</td>\n",
              "      <td id=\"T_20cd8_row7_col4\" class=\"data row7 col4\" >0.433237</td>\n",
              "      <td id=\"T_20cd8_row7_col5\" class=\"data row7 col5\" >0.492381</td>\n",
              "      <td id=\"T_20cd8_row7_col6\" class=\"data row7 col6\" >0.501060</td>\n",
              "      <td id=\"T_20cd8_row7_col7\" class=\"data row7 col7\" >1.000000</td>\n",
              "    </tr>\n",
              "  </tbody>\n",
              "</table>\n"
            ]
          },
          "metadata": {},
          "execution_count": 10
        }
      ]
    },
    {
      "cell_type": "code",
      "source": [
        "#The stellar objects in the dataset are unevenly distributed.\n",
        "y.value_counts()"
      ],
      "metadata": {
        "colab": {
          "base_uri": "https://localhost:8080/"
        },
        "id": "JrnPhu3aoMcs",
        "outputId": "037c11eb-b4c0-42ba-ab4b-edbc45eb47ca"
      },
      "execution_count": 11,
      "outputs": [
        {
          "output_type": "execute_result",
          "data": {
            "text/plain": [
              "GALAXY    59445\n",
              "STAR      21593\n",
              "QSO       18961\n",
              "Name: class, dtype: int64"
            ]
          },
          "metadata": {},
          "execution_count": 11
        }
      ]
    },
    {
      "cell_type": "code",
      "source": [
        "#Splitting the data into a training and test set. \n",
        "#Stratifying y due to class imbalance helps performance.\n",
        "from sklearn.model_selection import train_test_split\n",
        "X_train, X_test, y_train, y_test = train_test_split(X,y, test_size = 0.2, stratify = y)"
      ],
      "metadata": {
        "id": "Hk5yUJo45-Mp"
      },
      "execution_count": 12,
      "outputs": []
    },
    {
      "cell_type": "markdown",
      "source": [
        "### Visualizing Features "
      ],
      "metadata": {
        "id": "fvk86wVg-H2u"
      }
    },
    {
      "cell_type": "code",
      "source": [
        "#General esthetic options\n",
        "custom_params = {\"axes.spines.right\": False, \"axes.spines.top\": False, 'axes.grid': True}\n",
        "sns.set_theme(style=\"ticks\", rc=custom_params, palette ='tab10')"
      ],
      "metadata": {
        "id": "qMnVDrMc4ivG"
      },
      "execution_count": 13,
      "outputs": []
    },
    {
      "cell_type": "code",
      "source": [
        "#The three seem to be distributed relatively similarily in most features.\n",
        "#However, the redshift feature is drastically different depending on the class. It should greatly help to differenciate galaxies, quasars and stars. \n",
        "for col in list(X):\n",
        " print(df.groupby('class', squeeze = True)[col].mean())\n",
        " sns.displot(data=df, x=col, hue='class', multiple = 'stack', kind = 'hist', height=7)\n",
        " plt.title(col,fontsize=20)\n",
        " plt.show()"
      ],
      "metadata": {
        "colab": {
          "base_uri": "https://localhost:8080/",
          "height": 1000
        },
        "id": "mkirmtCQUk-C",
        "outputId": "9d2eb618-50cd-41f2-cbe3-210a287123fc"
      },
      "execution_count": 14,
      "outputs": [
        {
          "output_type": "stream",
          "name": "stderr",
          "text": [
            "/usr/local/lib/python3.7/dist-packages/ipykernel_launcher.py:2: FutureWarning: The `squeeze` parameter is deprecated and will be removed in a future version.\n",
            "  \n"
          ]
        },
        {
          "output_type": "stream",
          "name": "stdout",
          "text": [
            "class\n",
            "GALAXY    177.954727\n",
            "QSO       180.474314\n",
            "STAR      174.232180\n",
            "Name: alpha, dtype: float64\n"
          ]
        },
        {
          "output_type": "display_data",
          "data": {
            "text/plain": [
              "<Figure size 587.725x504 with 1 Axes>"
            ],
            "image/png": "[encoded data removed]"
          },
          "metadata": {}
        },
        {
          "output_type": "stream",
          "name": "stderr",
          "text": [
            "/usr/local/lib/python3.7/dist-packages/ipykernel_launcher.py:2: FutureWarning: The `squeeze` parameter is deprecated and will be removed in a future version.\n",
            "  \n"
          ]
        },
        {
          "output_type": "stream",
          "name": "stdout",
          "text": [
            "class\n",
            "GALAXY    23.513911\n",
            "QSO       26.808621\n",
            "STAR      23.499671\n",
            "Name: delta, dtype: float64\n"
          ]
        },
        {
          "output_type": "display_data",
          "data": {
            "text/plain": [
              "<Figure size 587.725x504 with 1 Axes>"
            ],
            "image/png": "[encoded data removed]"
          },
          "metadata": {}
        },
        {
          "output_type": "stream",
          "name": "stderr",
          "text": [
            "/usr/local/lib/python3.7/dist-packages/ipykernel_launcher.py:2: FutureWarning: The `squeeze` parameter is deprecated and will be removed in a future version.\n",
            "  \n"
          ]
        },
        {
          "output_type": "stream",
          "name": "stdout",
          "text": [
            "class\n",
            "GALAXY    22.587379\n",
            "QSO       21.547619\n",
            "STAR      21.153830\n",
            "Name: u, dtype: float64\n"
          ]
        },
        {
          "output_type": "display_data",
          "data": {
            "text/plain": [
              "<Figure size 587.725x504 with 1 Axes>"
            ],
            "image/png": "[encoded data removed]"
          },
          "metadata": {}
        },
        {
          "output_type": "stream",
          "name": "stderr",
          "text": [
            "/usr/local/lib/python3.7/dist-packages/ipykernel_launcher.py:2: FutureWarning: The `squeeze` parameter is deprecated and will be removed in a future version.\n",
            "  \n"
          ]
        },
        {
          "output_type": "stream",
          "name": "stdout",
          "text": [
            "class\n",
            "GALAXY    20.906101\n",
            "QSO       20.926193\n",
            "STAR      19.617142\n",
            "Name: g, dtype: float64\n"
          ]
        },
        {
          "output_type": "display_data",
          "data": {
            "text/plain": [
              "<Figure size 587.725x504 with 1 Axes>"
            ],
            "image/png": "[encoded data removed]"
          },
          "metadata": {}
        },
        {
          "output_type": "stream",
          "name": "stderr",
          "text": [
            "/usr/local/lib/python3.7/dist-packages/ipykernel_launcher.py:2: FutureWarning: The `squeeze` parameter is deprecated and will be removed in a future version.\n",
            "  \n"
          ]
        },
        {
          "output_type": "stream",
          "name": "stdout",
          "text": [
            "class\n",
            "GALAXY    19.587552\n",
            "QSO       20.624089\n",
            "STAR      18.947005\n",
            "Name: r, dtype: float64\n"
          ]
        },
        {
          "output_type": "display_data",
          "data": {
            "text/plain": [
              "<Figure size 587.725x504 with 1 Axes>"
            ],
            "image/png": "[encoded data removed]"
          },
          "metadata": {}
        },
        {
          "output_type": "stream",
          "name": "stderr",
          "text": [
            "/usr/local/lib/python3.7/dist-packages/ipykernel_launcher.py:2: FutureWarning: The `squeeze` parameter is deprecated and will be removed in a future version.\n",
            "  \n"
          ]
        },
        {
          "output_type": "stream",
          "name": "stdout",
          "text": [
            "class\n",
            "GALAXY    18.851990\n",
            "QSO       20.431173\n",
            "STAR      18.543760\n",
            "Name: i, dtype: float64\n"
          ]
        },
        {
          "output_type": "display_data",
          "data": {
            "text/plain": [
              "<Figure size 587.725x504 with 1 Axes>"
            ],
            "image/png": "[encoded data removed]"
          },
          "metadata": {}
        },
        {
          "output_type": "stream",
          "name": "stderr",
          "text": [
            "/usr/local/lib/python3.7/dist-packages/ipykernel_launcher.py:2: FutureWarning: The `squeeze` parameter is deprecated and will be removed in a future version.\n",
            "  \n"
          ]
        },
        {
          "output_type": "stream",
          "name": "stdout",
          "text": [
            "class\n",
            "GALAXY    18.449156\n",
            "QSO       20.266732\n",
            "STAR      18.334295\n",
            "Name: z, dtype: float64\n"
          ]
        },
        {
          "output_type": "display_data",
          "data": {
            "text/plain": [
              "<Figure size 587.725x504 with 1 Axes>"
            ],
            "image/png": "[encoded data removed]"
          },
          "metadata": {}
        },
        {
          "output_type": "stream",
          "name": "stderr",
          "text": [
            "/usr/local/lib/python3.7/dist-packages/ipykernel_launcher.py:2: FutureWarning: The `squeeze` parameter is deprecated and will be removed in a future version.\n",
            "  \n"
          ]
        },
        {
          "output_type": "stream",
          "name": "stdout",
          "text": [
            "class\n",
            "GALAXY    0.421596\n",
            "QSO       1.719676\n",
            "STAR     -0.000115\n",
            "Name: redshift, dtype: float64\n"
          ]
        },
        {
          "output_type": "display_data",
          "data": {
            "text/plain": [
              "<Figure size 587.725x504 with 1 Axes>"
            ],
            "image/png": "[encoded data removed]"
          },
          "metadata": {}
        }
      ]
    },
    {
      "cell_type": "markdown",
      "source": [
        "### Visualizing Target\n"
      ],
      "metadata": {
        "id": "nNBIqulrE-Fo"
      }
    },
    {
      "cell_type": "code",
      "source": [
        "#Visual representation of the class imbalance in the dataset.\n",
        "g = sns.displot(data=df, x='class', hue='class',height=7)\n",
        "plt.title('Class Distribution',fontsize=20)\n",
        "\n",
        "for x, bar in enumerate(g.ax.patches):\n",
        "    txt_x = bar.get_x()+0.5                      \n",
        "    txt_y = bar.get_height()\n",
        "    g.ax.text(txt_x, txt_y+1000,txt_y,ha='center',va='center',size=14,fontweight='bold')"
      ],
      "metadata": {
        "colab": {
          "base_uri": "https://localhost:8080/",
          "height": 530
        },
        "id": "NUZMdxC9-N-l",
        "outputId": "603087af-797a-4cde-f2d1-f8ae4228a24c"
      },
      "execution_count": 15,
      "outputs": [
        {
          "output_type": "display_data",
          "data": {
            "text/plain": [
              "<Figure size 587.725x504 with 1 Axes>"
            ],
            "image/png": "[encoded data removed]"
          },
          "metadata": {}
        }
      ]
    },
    {
      "cell_type": "markdown",
      "source": [
        "## Classifying data - Decision tree"
      ],
      "metadata": {
        "id": "TiAbPRAep4CQ"
      }
    },
    {
      "cell_type": "markdown",
      "source": [
        "### Creating Model"
      ],
      "metadata": {
        "id": "XtZ69U8nFXla"
      }
    },
    {
      "cell_type": "code",
      "source": [
        "#Decision tree has high performance while being easily interpretable.\n",
        "from sklearn.tree import DecisionTreeClassifier, export_text, plot_tree\n",
        "\n",
        "dt = DecisionTreeClassifier(random_state = 42)\n",
        "dt.fit(X_train,y_train)"
      ],
      "metadata": {
        "colab": {
          "base_uri": "https://localhost:8080/"
        },
        "id": "PIHzPv5_5hlt",
        "outputId": "68ed0874-b24d-416a-aaa6-35e9d883b61a"
      },
      "execution_count": 16,
      "outputs": [
        {
          "output_type": "execute_result",
          "data": {
            "text/plain": [
              "DecisionTreeClassifier(random_state=42)"
            ]
          },
          "metadata": {},
          "execution_count": 16
        }
      ]
    },
    {
      "cell_type": "markdown",
      "source": [
        "### Interpreting Model"
      ],
      "metadata": {
        "id": "Jcf2OJeGFa4k"
      }
    },
    {
      "cell_type": "code",
      "source": [
        "#As noticed during EDA, redshift seems to differenciate the classes the most. Decision tree considers it the most important feature for its classification by far.\n",
        "for importance, name in sorted(zip(dt.feature_importances_, X_train.columns),reverse=True):\n",
        "    print(f'Feature: {name:<8} -----> Score: {importance:5f}%')"
      ],
      "metadata": {
        "colab": {
          "base_uri": "https://localhost:8080/"
        },
        "id": "5AGJVscDEVgf",
        "outputId": "a5b78bb0-48f4-4db3-ff92-8af4b2787af5"
      },
      "execution_count": 17,
      "outputs": [
        {
          "output_type": "stream",
          "name": "stdout",
          "text": [
            "Feature: redshift -----> Score: 0.876915%\n",
            "Feature: g        -----> Score: 0.052945%\n",
            "Feature: u        -----> Score: 0.020242%\n",
            "Feature: i        -----> Score: 0.013260%\n",
            "Feature: z        -----> Score: 0.011468%\n",
            "Feature: r        -----> Score: 0.009560%\n",
            "Feature: alpha    -----> Score: 0.008883%\n",
            "Feature: delta    -----> Score: 0.006725%\n"
          ]
        }
      ]
    },
    {
      "cell_type": "code",
      "source": [
        "#Verifying the size of the decision tree.\n",
        "leaves = dt.get_n_leaves()\n",
        "depth = dt.get_depth()\n",
        "print(f'Decision tree has {leaves} leaves and a depth of {depth}.')"
      ],
      "metadata": {
        "colab": {
          "base_uri": "https://localhost:8080/"
        },
        "id": "80ojY5VpsCPe",
        "outputId": "34dc8eda-e7c2-4c63-8e6c-87e6716ad86a"
      },
      "execution_count": 18,
      "outputs": [
        {
          "output_type": "stream",
          "name": "stdout",
          "text": [
            "Decision tree has 1926 leaves and a depth of 31.\n"
          ]
        }
      ]
    },
    {
      "cell_type": "code",
      "source": [
        "#Printing first 1000 characters of the rules only for brevity.\n",
        "classification_rules = export_text(dt, feature_names=list(X_train.columns))\n",
        "print(classification_rules[0:1000])"
      ],
      "metadata": {
        "colab": {
          "base_uri": "https://localhost:8080/"
        },
        "id": "hmyvdFATmq2w",
        "outputId": "163ffe86-302a-403f-936a-5d240d0f81e6"
      },
      "execution_count": 19,
      "outputs": [
        {
          "output_type": "stream",
          "name": "stdout",
          "text": [
            "|--- redshift <= 0.00\n",
            "|   |--- redshift <= -0.00\n",
            "|   |   |--- redshift <= -0.00\n",
            "|   |   |   |--- class: GALAXY\n",
            "|   |   |--- redshift >  -0.00\n",
            "|   |   |   |--- i <= 22.21\n",
            "|   |   |   |   |--- g <= 27.34\n",
            "|   |   |   |   |   |--- z <= 21.72\n",
            "|   |   |   |   |   |   |--- u <= 22.43\n",
            "|   |   |   |   |   |   |   |--- redshift <= -0.00\n",
            "|   |   |   |   |   |   |   |   |--- alpha <= 113.38\n",
            "|   |   |   |   |   |   |   |   |   |--- alpha <= 113.35\n",
            "|   |   |   |   |   |   |   |   |   |   |--- u <= 19.41\n",
            "|   |   |   |   |   |   |   |   |   |   |   |--- truncated branch of depth 5\n",
            "|   |   |   |   |   |   |   |   |   |   |--- u >  19.41\n",
            "|   |   |   |   |   |   |   |   |   |   |   |--- class: STAR\n",
            "|   |   |   |   |   |   |   |   |   |--- alpha >  113.35\n",
            "|   |   |   |   |   |   |   |   |   |   |--- class: GALAXY\n",
            "|   |   |   |   |   |   |   |   |--- alpha >  113.38\n",
            "|   |   |   |   |   |   |   |   |   |--- alpha <= 317.32\n",
            "|   |   |   |   |   |   |   |   |   |   |--- class: STAR\n",
            "|   |   |   |   |   |   |   \n"
          ]
        }
      ]
    },
    {
      "cell_type": "code",
      "source": [
        "#Plotting the first 3 levels for brevity.\n",
        "plt.figure(figsize=(32,10))\n",
        "plot_tree(dt,max_depth = 3, fontsize = 11, feature_names=list(X_train.columns))\n",
        "plt.show()"
      ],
      "metadata": {
        "colab": {
          "base_uri": "https://localhost:8080/",
          "height": 481
        },
        "id": "0dEmPmk8rwA3",
        "outputId": "dd050280-f9cb-4d13-8af4-5a0849cf7f04"
      },
      "execution_count": 20,
      "outputs": [
        {
          "output_type": "display_data",
          "data": {
            "text/plain": [
              "<Figure size 2304x720 with 1 Axes>"
            ],
            "image/png": "[encoded data removed]"
          },
          "metadata": {}
        }
      ]
    },
    {
      "cell_type": "markdown",
      "source": [
        "### Evaluating Model"
      ],
      "metadata": {
        "id": "9CQxXyytFdow"
      }
    },
    {
      "cell_type": "code",
      "source": [
        "#A simple decision tree performs great on this dataset, presumably due to the redshift feature.\n",
        "from sklearn.metrics import accuracy_score, f1_score, confusion_matrix, classification_report\n",
        "\n",
        "predictions = dt.predict(X_test)\n",
        "\n",
        "acc = accuracy_score(y_test,predictions)\n",
        "f1_weighted = f1_score(y_test,predictions, average = 'weighted')\n",
        "\n",
        "\n",
        "print(classification_report(y_test,predictions, digits = 4))"
      ],
      "metadata": {
        "id": "c7_Nw6Jt7g5K",
        "colab": {
          "base_uri": "https://localhost:8080/"
        },
        "outputId": "7bbacb19-3756-404e-a22f-eb4f4311512f"
      },
      "execution_count": 21,
      "outputs": [
        {
          "output_type": "stream",
          "name": "stdout",
          "text": [
            "              precision    recall  f1-score   support\n",
            "\n",
            "      GALAXY     0.9704    0.9698    0.9701     11889\n",
            "         QSO     0.9102    0.9111    0.9106      3792\n",
            "        STAR     0.9958    0.9965    0.9962      4319\n",
            "\n",
            "    accuracy                         0.9645     20000\n",
            "   macro avg     0.9588    0.9592    0.9590     20000\n",
            "weighted avg     0.9645    0.9645    0.9645     20000\n",
            "\n"
          ]
        }
      ]
    },
    {
      "cell_type": "code",
      "source": [
        "#Creating a confusion matrix to visualize classification results.\n",
        "cm = confusion_matrix(y_test,predictions)\n",
        "\n",
        "ax= plt.subplot()\n",
        "sns.heatmap(cm, annot=True, fmt='g', ax=ax);\n",
        "ax.set_xlabel('Predicted labels');\n",
        "ax.set_ylabel('True labels'); \n",
        "ax.set_title('Confusion Matrix'); \n",
        "ax.xaxis.set_ticklabels(['Galaxy', 'Quasar','Star']); ax.yaxis.set_ticklabels(['Galaxy', 'Quasar','Star']);"
      ],
      "metadata": {
        "colab": {
          "base_uri": "https://localhost:8080/",
          "height": 301
        },
        "id": "Yn6kv8HF8WBz",
        "outputId": "80751ae3-5084-437f-d7cd-64b4f636fdf0"
      },
      "execution_count": 22,
      "outputs": [
        {
          "output_type": "display_data",
          "data": {
            "text/plain": [
              "<Figure size 432x288 with 2 Axes>"
            ],
            "image/png": "[encoded data removed]"
          },
          "metadata": {}
        }
      ]
    },
    {
      "cell_type": "markdown",
      "source": [
        "## Classifying data - Light Gradient Boosting"
      ],
      "metadata": {
        "id": "rtorcq9hRalY"
      }
    },
    {
      "cell_type": "markdown",
      "source": [
        "### Creating Model"
      ],
      "metadata": {
        "id": "cAj45sUQRj93"
      }
    },
    {
      "cell_type": "code",
      "source": [
        "#To verify if performance can be improved versus a decision tree, a Light Gradient Boosting model is created.\n",
        "from lightgbm import LGBMClassifier\n",
        "\n",
        "lgbm = LGBMClassifier(random_state= 42)\n",
        "lgbm.fit(X_train,y_train)"
      ],
      "metadata": {
        "colab": {
          "base_uri": "https://localhost:8080/"
        },
        "id": "JF5oBf0yLgHt",
        "outputId": "8ab2233c-1f23-4151-c918-bf8cdae3a224"
      },
      "execution_count": 23,
      "outputs": [
        {
          "output_type": "execute_result",
          "data": {
            "text/plain": [
              "LGBMClassifier(random_state=42)"
            ]
          },
          "metadata": {},
          "execution_count": 23
        }
      ]
    },
    {
      "cell_type": "markdown",
      "source": [
        "### Interpreting Model"
      ],
      "metadata": {
        "id": "fyVg9kf0UcaE"
      }
    },
    {
      "cell_type": "code",
      "source": [
        "#Redshift is still the most important feature. However, it is notable that other features are considered differently.\n",
        "for LGBMimportance, LGBMname in sorted(zip(lgbm.feature_importances_, X_train.columns),reverse=True):\n",
        "    print(f'Feature: {LGBMname:<8} -----> Score: {LGBMimportance}')"
      ],
      "metadata": {
        "colab": {
          "base_uri": "https://localhost:8080/"
        },
        "id": "GPjM4VoSPOCk",
        "outputId": "2253f484-7c96-4bf1-b101-d27c15ad44fc"
      },
      "execution_count": 24,
      "outputs": [
        {
          "output_type": "stream",
          "name": "stdout",
          "text": [
            "Feature: redshift -----> Score: 2213\n",
            "Feature: g        -----> Score: 1201\n",
            "Feature: u        -----> Score: 1141\n",
            "Feature: alpha    -----> Score: 958\n",
            "Feature: i        -----> Score: 949\n",
            "Feature: z        -----> Score: 934\n",
            "Feature: delta    -----> Score: 920\n",
            "Feature: r        -----> Score: 684\n"
          ]
        }
      ]
    },
    {
      "cell_type": "markdown",
      "source": [
        "### Evaluating Model"
      ],
      "metadata": {
        "id": "O9-HQT0iUfFl"
      }
    },
    {
      "cell_type": "code",
      "source": [
        "#Unsurprisingly, LGBM Model performs slightly better than the decision tree. The f1-score for Quasars is improved by roughly 3%.\n",
        "#However, this type of model is unfortunately much harder to interpret, reinforcing the strength of the decision tree.\n",
        "LGBMpredictions = lgbm.predict(X_test)\n",
        "\n",
        "LGBMacc = accuracy_score(y_test,LGBMpredictions)\n",
        "LGBMf1_weighted = f1_score(y_test,LGBMpredictions, average = 'weighted')\n",
        "\n",
        "print(classification_report(y_test,LGBMpredictions, digits = 4))"
      ],
      "metadata": {
        "colab": {
          "base_uri": "https://localhost:8080/"
        },
        "id": "pbWIXf4vNJa9",
        "outputId": "cf9c8e26-d922-45db-f52d-0c952c91620c"
      },
      "execution_count": 29,
      "outputs": [
        {
          "output_type": "stream",
          "name": "stdout",
          "text": [
            "              precision    recall  f1-score   support\n",
            "\n",
            "      GALAXY     0.9769    0.9839    0.9804     11889\n",
            "         QSO     0.9532    0.9299    0.9414      3792\n",
            "        STAR     0.9954    0.9975    0.9964      4319\n",
            "\n",
            "    accuracy                         0.9766     20000\n",
            "   macro avg     0.9752    0.9704    0.9727     20000\n",
            "weighted avg     0.9764    0.9766    0.9765     20000\n",
            "\n"
          ]
        }
      ]
    },
    {
      "cell_type": "code",
      "source": [
        "#Creating a confusion matrix for the LGBM model.\n",
        "#The precision for Quasars has a notable improvement, from 91.02% to 95.32%\n",
        "LGBMcm = confusion_matrix(y_test,LGBMpredictions)\n",
        "\n",
        "ax2= plt.subplot()\n",
        "sns.heatmap(LGBMcm, annot=True, fmt='g', ax=ax2);\n",
        "ax2.set_xlabel('Predicted labels');\n",
        "ax2.set_ylabel('True labels'); \n",
        "ax2.set_title('Confusion Matrix'); \n",
        "ax2.xaxis.set_ticklabels(['Galaxy', 'Quasar','Star']); ax2.yaxis.set_ticklabels(['Galaxy', 'Quasar','Star']);"
      ],
      "metadata": {
        "colab": {
          "base_uri": "https://localhost:8080/",
          "height": 301
        },
        "id": "9QVbQfc6NJ7Q",
        "outputId": "a6f72494-d59d-49e1-d737-6148d716cad3"
      },
      "execution_count": 26,
      "outputs": [
        {
          "output_type": "display_data",
          "data": {
            "text/plain": [
              "<Figure size 432x288 with 2 Axes>"
            ],
            "image/png": "[encoded data removed]"
          },
          "metadata": {}
        }
      ]
    },
    {
      "cell_type": "code",
      "source": [
        "#Displaying accuracy and F1 for both models to allow for a quick comparison.\n",
        "print(f\"{'Decision Tree performance ---->':<30} Accuracy:{acc:.6f}% - F1_Score:{f1_weighted:.6f}%\")\n",
        "print(f\"{'Light GBM performance -------->':<30} Accuracy:{LGBMacc:.6f}% - F1_Score:{LGBMf1_weighted:.6f}%\")"
      ],
      "metadata": {
        "colab": {
          "base_uri": "https://localhost:8080/"
        },
        "id": "WNXO1Uf4Y3RR",
        "outputId": "ab012db3-4b17-4f7f-d8e7-863132e280a0"
      },
      "execution_count": 30,
      "outputs": [
        {
          "output_type": "stream",
          "name": "stdout",
          "text": [
            "Decision Tree performance ----> Accuracy:0.964450% - F1_Score:0.964454%\n",
            "Light GBM performance --------> Accuracy:0.976550% - F1_Score:0.976456%\n"
          ]
        }
      ]
    }
  ]
}